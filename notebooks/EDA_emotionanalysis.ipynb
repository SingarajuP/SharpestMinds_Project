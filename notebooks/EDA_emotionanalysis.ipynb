{
 "cells": [
  {
   "cell_type": "code",
   "execution_count": 23,
   "id": "0659972b",
   "metadata": {},
   "outputs": [],
   "source": [
    "#Required python libraries\n",
    "import pandas as pd\n",
    "import numpy as np\n",
    "import seaborn as sns\n",
    "import matplotlib.pyplot as plt\n",
    "import time\n",
    "import pickle\n",
    "import torch\n",
    "import itertools\n",
    "import os"
   ]
  },
  {
   "cell_type": "code",
   "execution_count": 24,
   "id": "2cc77c23",
   "metadata": {},
   "outputs": [
    {
     "data": {
      "text/plain": [
       "'/Users/phanisingaraju/SM/Datasets/emotion_analysis/data/merged_training.pkl'"
      ]
     },
     "execution_count": 24,
     "metadata": {},
     "output_type": "execute_result"
    }
   ],
   "source": [
    "#Path for the data stored in the folder\n",
    "working_directory=os.getcwd()\n",
    "path=working_directory+'/data/merged_training.pkl'\n",
    "path"
   ]
  },
  {
   "cell_type": "code",
   "execution_count": 25,
   "id": "598b6012",
   "metadata": {},
   "outputs": [],
   "source": [
    "#Reading dataset into dataframe. \n",
    "df = pd.read_pickle(path)"
   ]
  },
  {
   "cell_type": "code",
   "execution_count": 3,
   "id": "50ec03cf",
   "metadata": {},
   "outputs": [
    {
     "data": {
      "text/html": [
       "<div>\n",
       "<style scoped>\n",
       "    .dataframe tbody tr th:only-of-type {\n",
       "        vertical-align: middle;\n",
       "    }\n",
       "\n",
       "    .dataframe tbody tr th {\n",
       "        vertical-align: top;\n",
       "    }\n",
       "\n",
       "    .dataframe thead th {\n",
       "        text-align: right;\n",
       "    }\n",
       "</style>\n",
       "<table border=\"1\" class=\"dataframe\">\n",
       "  <thead>\n",
       "    <tr style=\"text-align: right;\">\n",
       "      <th></th>\n",
       "      <th>text</th>\n",
       "      <th>emotions</th>\n",
       "    </tr>\n",
       "  </thead>\n",
       "  <tbody>\n",
       "    <tr>\n",
       "      <th>27383</th>\n",
       "      <td>i feel awful about it too because it s my job ...</td>\n",
       "      <td>sadness</td>\n",
       "    </tr>\n",
       "    <tr>\n",
       "      <th>110083</th>\n",
       "      <td>im alone i feel awful</td>\n",
       "      <td>sadness</td>\n",
       "    </tr>\n",
       "    <tr>\n",
       "      <th>140764</th>\n",
       "      <td>ive probably mentioned this before but i reall...</td>\n",
       "      <td>joy</td>\n",
       "    </tr>\n",
       "    <tr>\n",
       "      <th>100071</th>\n",
       "      <td>i was feeling a little low few days back</td>\n",
       "      <td>sadness</td>\n",
       "    </tr>\n",
       "    <tr>\n",
       "      <th>2837</th>\n",
       "      <td>i beleive that i am much more sensitive to oth...</td>\n",
       "      <td>love</td>\n",
       "    </tr>\n",
       "  </tbody>\n",
       "</table>\n",
       "</div>"
      ],
      "text/plain": [
       "                                                     text emotions\n",
       "27383   i feel awful about it too because it s my job ...  sadness\n",
       "110083                              im alone i feel awful  sadness\n",
       "140764  ive probably mentioned this before but i reall...      joy\n",
       "100071           i was feeling a little low few days back  sadness\n",
       "2837    i beleive that i am much more sensitive to oth...     love"
      ]
     },
     "execution_count": 3,
     "metadata": {},
     "output_type": "execute_result"
    }
   ],
   "source": [
    "#The dataset is already cleaned and preprocessed\n",
    "df.head()"
   ]
  },
  {
   "cell_type": "code",
   "execution_count": 4,
   "id": "93279857",
   "metadata": {},
   "outputs": [
    {
     "data": {
      "text/plain": [
       "(416809, 2)"
      ]
     },
     "execution_count": 4,
     "metadata": {},
     "output_type": "execute_result"
    }
   ],
   "source": [
    "#Number of rows in the dataframe\n",
    "df.shape"
   ]
  },
  {
   "cell_type": "code",
   "execution_count": 5,
   "id": "a0ccaf05",
   "metadata": {},
   "outputs": [
    {
     "data": {
      "text/plain": [
       "joy         141067\n",
       "sadness     121187\n",
       "anger        57317\n",
       "fear         47712\n",
       "love         34554\n",
       "surprise     14972\n",
       "Name: emotions, dtype: int64"
      ]
     },
     "execution_count": 5,
     "metadata": {},
     "output_type": "execute_result"
    }
   ],
   "source": [
    "#Count of each emotion in the dataset\n",
    "df['emotions'].value_counts()"
   ]
  },
  {
   "cell_type": "code",
   "execution_count": 6,
   "id": "b3a1c722",
   "metadata": {},
   "outputs": [
    {
     "data": {
      "text/plain": [
       "joy         33.844519\n",
       "sadness     29.074948\n",
       "anger       13.751383\n",
       "fear        11.446970\n",
       "love         8.290128\n",
       "surprise     3.592053\n",
       "Name: emotions, dtype: float64"
      ]
     },
     "execution_count": 6,
     "metadata": {},
     "output_type": "execute_result"
    }
   ],
   "source": [
    "#Percentage of data for each emotion\n",
    "df['emotions'].value_counts(normalize=True)*100"
   ]
  },
  {
   "cell_type": "code",
   "execution_count": 7,
   "id": "11e30601",
   "metadata": {},
   "outputs": [],
   "source": [
    "df=df.reset_index()"
   ]
  },
  {
   "cell_type": "code",
   "execution_count": 8,
   "id": "1fbe6945",
   "metadata": {},
   "outputs": [
    {
     "data": {
      "text/plain": [
       "'i feel awful about it too because it s my job to get him in a position to succeed and it just didn t happen here'"
      ]
     },
     "execution_count": 8,
     "metadata": {},
     "output_type": "execute_result"
    }
   ],
   "source": [
    "df['text'][0]"
   ]
  },
  {
   "cell_type": "code",
   "execution_count": 9,
   "id": "5c527c6d",
   "metadata": {},
   "outputs": [],
   "source": [
    "#Getting the count of words in each row. \n",
    "df['Number_words']=df['text'].str.split().apply(len)"
   ]
  },
  {
   "cell_type": "code",
   "execution_count": 10,
   "id": "67688843",
   "metadata": {},
   "outputs": [
    {
     "data": {
      "text/html": [
       "<div>\n",
       "<style scoped>\n",
       "    .dataframe tbody tr th:only-of-type {\n",
       "        vertical-align: middle;\n",
       "    }\n",
       "\n",
       "    .dataframe tbody tr th {\n",
       "        vertical-align: top;\n",
       "    }\n",
       "\n",
       "    .dataframe thead th {\n",
       "        text-align: right;\n",
       "    }\n",
       "</style>\n",
       "<table border=\"1\" class=\"dataframe\">\n",
       "  <thead>\n",
       "    <tr style=\"text-align: right;\">\n",
       "      <th></th>\n",
       "      <th>index</th>\n",
       "      <th>text</th>\n",
       "      <th>emotions</th>\n",
       "      <th>Number_words</th>\n",
       "    </tr>\n",
       "  </thead>\n",
       "  <tbody>\n",
       "    <tr>\n",
       "      <th>0</th>\n",
       "      <td>27383</td>\n",
       "      <td>i feel awful about it too because it s my job ...</td>\n",
       "      <td>sadness</td>\n",
       "      <td>26</td>\n",
       "    </tr>\n",
       "    <tr>\n",
       "      <th>1</th>\n",
       "      <td>110083</td>\n",
       "      <td>im alone i feel awful</td>\n",
       "      <td>sadness</td>\n",
       "      <td>5</td>\n",
       "    </tr>\n",
       "    <tr>\n",
       "      <th>2</th>\n",
       "      <td>140764</td>\n",
       "      <td>ive probably mentioned this before but i reall...</td>\n",
       "      <td>joy</td>\n",
       "      <td>27</td>\n",
       "    </tr>\n",
       "    <tr>\n",
       "      <th>3</th>\n",
       "      <td>100071</td>\n",
       "      <td>i was feeling a little low few days back</td>\n",
       "      <td>sadness</td>\n",
       "      <td>9</td>\n",
       "    </tr>\n",
       "    <tr>\n",
       "      <th>4</th>\n",
       "      <td>2837</td>\n",
       "      <td>i beleive that i am much more sensitive to oth...</td>\n",
       "      <td>love</td>\n",
       "      <td>18</td>\n",
       "    </tr>\n",
       "  </tbody>\n",
       "</table>\n",
       "</div>"
      ],
      "text/plain": [
       "    index                                               text emotions  \\\n",
       "0   27383  i feel awful about it too because it s my job ...  sadness   \n",
       "1  110083                              im alone i feel awful  sadness   \n",
       "2  140764  ive probably mentioned this before but i reall...      joy   \n",
       "3  100071           i was feeling a little low few days back  sadness   \n",
       "4    2837  i beleive that i am much more sensitive to oth...     love   \n",
       "\n",
       "   Number_words  \n",
       "0            26  \n",
       "1             5  \n",
       "2            27  \n",
       "3             9  \n",
       "4            18  "
      ]
     },
     "execution_count": 10,
     "metadata": {},
     "output_type": "execute_result"
    }
   ],
   "source": [
    "df.head()"
   ]
  },
  {
   "cell_type": "code",
   "execution_count": 11,
   "id": "1e1d9ae3",
   "metadata": {},
   "outputs": [
    {
     "data": {
      "text/plain": [
       "(1, 178, 17.0)"
      ]
     },
     "execution_count": 11,
     "metadata": {},
     "output_type": "execute_result"
    }
   ],
   "source": [
    "df['Number_words'].min(),df['Number_words'].max(), df['Number_words'].median()"
   ]
  },
  {
   "cell_type": "code",
   "execution_count": 12,
   "id": "a320e071",
   "metadata": {},
   "outputs": [
    {
     "data": {
      "text/plain": [
       "index           26\n",
       "text            26\n",
       "emotions        26\n",
       "Number_words    26\n",
       "dtype: int64"
      ]
     },
     "execution_count": 12,
     "metadata": {},
     "output_type": "execute_result"
    }
   ],
   "source": [
    "df[df['Number_words'] == 1].count()"
   ]
  },
  {
   "cell_type": "code",
   "execution_count": 13,
   "id": "e9e48764",
   "metadata": {},
   "outputs": [
    {
     "data": {
      "text/html": [
       "<div>\n",
       "<style scoped>\n",
       "    .dataframe tbody tr th:only-of-type {\n",
       "        vertical-align: middle;\n",
       "    }\n",
       "\n",
       "    .dataframe tbody tr th {\n",
       "        vertical-align: top;\n",
       "    }\n",
       "\n",
       "    .dataframe thead th {\n",
       "        text-align: right;\n",
       "    }\n",
       "</style>\n",
       "<table border=\"1\" class=\"dataframe\">\n",
       "  <thead>\n",
       "    <tr style=\"text-align: right;\">\n",
       "      <th></th>\n",
       "      <th>text</th>\n",
       "      <th>emotions</th>\n",
       "    </tr>\n",
       "  </thead>\n",
       "  <tbody>\n",
       "    <tr>\n",
       "      <th>43237</th>\n",
       "      <td>summer</td>\n",
       "      <td>sadness</td>\n",
       "    </tr>\n",
       "    <tr>\n",
       "      <th>45779</th>\n",
       "      <td>salo</td>\n",
       "      <td>anger</td>\n",
       "    </tr>\n",
       "    <tr>\n",
       "      <th>79308</th>\n",
       "      <td>sadness</td>\n",
       "      <td>sadness</td>\n",
       "    </tr>\n",
       "    <tr>\n",
       "      <th>112034</th>\n",
       "      <td>recently</td>\n",
       "      <td>sadness</td>\n",
       "    </tr>\n",
       "    <tr>\n",
       "      <th>124403</th>\n",
       "      <td>someone</td>\n",
       "      <td>anger</td>\n",
       "    </tr>\n",
       "    <tr>\n",
       "      <th>128410</th>\n",
       "      <td>in</td>\n",
       "      <td>fear</td>\n",
       "    </tr>\n",
       "    <tr>\n",
       "      <th>131282</th>\n",
       "      <td>yesterday</td>\n",
       "      <td>anger</td>\n",
       "    </tr>\n",
       "    <tr>\n",
       "      <th>154126</th>\n",
       "      <td>depressions</td>\n",
       "      <td>sadness</td>\n",
       "    </tr>\n",
       "    <tr>\n",
       "      <th>170335</th>\n",
       "      <td>once</td>\n",
       "      <td>anger</td>\n",
       "    </tr>\n",
       "    <tr>\n",
       "      <th>202327</th>\n",
       "      <td>sometimes</td>\n",
       "      <td>sadness</td>\n",
       "    </tr>\n",
       "    <tr>\n",
       "      <th>208981</th>\n",
       "      <td>in</td>\n",
       "      <td>sadness</td>\n",
       "    </tr>\n",
       "    <tr>\n",
       "      <th>212756</th>\n",
       "      <td>spoilt</td>\n",
       "      <td>anger</td>\n",
       "    </tr>\n",
       "    <tr>\n",
       "      <th>222454</th>\n",
       "      <td>when</td>\n",
       "      <td>sadness</td>\n",
       "    </tr>\n",
       "    <tr>\n",
       "      <th>231090</th>\n",
       "      <td>loneliness</td>\n",
       "      <td>sadness</td>\n",
       "    </tr>\n",
       "    <tr>\n",
       "      <th>236022</th>\n",
       "      <td>once</td>\n",
       "      <td>fear</td>\n",
       "    </tr>\n",
       "    <tr>\n",
       "      <th>270399</th>\n",
       "      <td>in</td>\n",
       "      <td>anger</td>\n",
       "    </tr>\n",
       "    <tr>\n",
       "      <th>281449</th>\n",
       "      <td>never</td>\n",
       "      <td>fear</td>\n",
       "    </tr>\n",
       "    <tr>\n",
       "      <th>288999</th>\n",
       "      <td>in</td>\n",
       "      <td>sadness</td>\n",
       "    </tr>\n",
       "    <tr>\n",
       "      <th>293882</th>\n",
       "      <td>blank</td>\n",
       "      <td>joy</td>\n",
       "    </tr>\n",
       "    <tr>\n",
       "      <th>303575</th>\n",
       "      <td>when</td>\n",
       "      <td>joy</td>\n",
       "    </tr>\n",
       "    <tr>\n",
       "      <th>334432</th>\n",
       "      <td>when</td>\n",
       "      <td>fear</td>\n",
       "    </tr>\n",
       "    <tr>\n",
       "      <th>356979</th>\n",
       "      <td>nothing</td>\n",
       "      <td>anger</td>\n",
       "    </tr>\n",
       "    <tr>\n",
       "      <th>383303</th>\n",
       "      <td>yesterday</td>\n",
       "      <td>joy</td>\n",
       "    </tr>\n",
       "    <tr>\n",
       "      <th>384183</th>\n",
       "      <td>honestly</td>\n",
       "      <td>anger</td>\n",
       "    </tr>\n",
       "    <tr>\n",
       "      <th>394778</th>\n",
       "      <td>earlier</td>\n",
       "      <td>fear</td>\n",
       "    </tr>\n",
       "    <tr>\n",
       "      <th>409155</th>\n",
       "      <td>when</td>\n",
       "      <td>anger</td>\n",
       "    </tr>\n",
       "  </tbody>\n",
       "</table>\n",
       "</div>"
      ],
      "text/plain": [
       "               text emotions\n",
       "43237        summer  sadness\n",
       "45779          salo    anger\n",
       "79308       sadness  sadness\n",
       "112034     recently  sadness\n",
       "124403      someone    anger\n",
       "128410           in     fear\n",
       "131282    yesterday    anger\n",
       "154126  depressions  sadness\n",
       "170335         once    anger\n",
       "202327    sometimes  sadness\n",
       "208981           in  sadness\n",
       "212756       spoilt    anger\n",
       "222454         when  sadness\n",
       "231090   loneliness  sadness\n",
       "236022         once     fear\n",
       "270399           in    anger\n",
       "281449        never     fear\n",
       "288999           in  sadness\n",
       "293882        blank      joy\n",
       "303575         when      joy\n",
       "334432         when     fear\n",
       "356979      nothing    anger\n",
       "383303    yesterday      joy\n",
       "384183     honestly    anger\n",
       "394778      earlier     fear\n",
       "409155         when    anger"
      ]
     },
     "execution_count": 13,
     "metadata": {},
     "output_type": "execute_result"
    }
   ],
   "source": [
    "df.loc[df['Number_words'] == 1, ['text','emotions']]"
   ]
  },
  {
   "cell_type": "markdown",
   "id": "d7d23b09",
   "metadata": {},
   "source": [
    "The minimum words in each sample is 1 and is further explored to know whether the single word is directly the emotion itself. But surprisingly, the words and the corresponding emotion doesn't relate in most of the words among 26 samples. Consider, the rows where the word is when, the emotion is different each time and also meaningless. But as 26 rows among the total data of >400K is negligible. "
   ]
  },
  {
   "cell_type": "code",
   "execution_count": 14,
   "id": "e8776bfd",
   "metadata": {},
   "outputs": [
    {
     "data": {
      "text/plain": [
       "index           1\n",
       "text            1\n",
       "emotions        1\n",
       "Number_words    1\n",
       "dtype: int64"
      ]
     },
     "execution_count": 14,
     "metadata": {},
     "output_type": "execute_result"
    }
   ],
   "source": [
    "df[df['Number_words'] == 178].count()"
   ]
  },
  {
   "cell_type": "code",
   "execution_count": 15,
   "id": "4beb0b89",
   "metadata": {},
   "outputs": [
    {
     "data": {
      "text/html": [
       "<div>\n",
       "<style scoped>\n",
       "    .dataframe tbody tr th:only-of-type {\n",
       "        vertical-align: middle;\n",
       "    }\n",
       "\n",
       "    .dataframe tbody tr th {\n",
       "        vertical-align: top;\n",
       "    }\n",
       "\n",
       "    .dataframe thead th {\n",
       "        text-align: right;\n",
       "    }\n",
       "</style>\n",
       "<table border=\"1\" class=\"dataframe\">\n",
       "  <thead>\n",
       "    <tr style=\"text-align: right;\">\n",
       "      <th></th>\n",
       "      <th>text</th>\n",
       "      <th>emotions</th>\n",
       "    </tr>\n",
       "  </thead>\n",
       "  <tbody>\n",
       "    <tr>\n",
       "      <th>369479</th>\n",
       "      <td>a few days back i was waiting for the bus at t...</td>\n",
       "      <td>anger</td>\n",
       "    </tr>\n",
       "  </tbody>\n",
       "</table>\n",
       "</div>"
      ],
      "text/plain": [
       "                                                     text emotions\n",
       "369479  a few days back i was waiting for the bus at t...    anger"
      ]
     },
     "execution_count": 15,
     "metadata": {},
     "output_type": "execute_result"
    }
   ],
   "source": [
    "df.loc[df['Number_words'] == 178, ['text','emotions']]"
   ]
  },
  {
   "cell_type": "code",
   "execution_count": 16,
   "id": "28837a40",
   "metadata": {},
   "outputs": [
    {
     "data": {
      "text/plain": [
       "'a few days back i was waiting for the bus at the bus stop before getting into the bus i had prepared the exact amount of coins to pay for the bus fair and when i got into the bus i put these coins into the box meant to collect the bus fair i thought that i had paid and wanted to get inside however the bus driver called me and asked me in an impolite way if the coins were stuck at the opening of the box he had not seen me paying and there wasnt a stack of coins in the box i could not understand this and the driver kept questioning me he made me feel angry and at last i inserted a dollar coin in the box just to get away from him later i found that i had forgotten a few coins in my pocket and had not paid enough for the fair the first time after i had entered the bus i could still hear him scolding me and i felt disgusted'"
      ]
     },
     "execution_count": 16,
     "metadata": {},
     "output_type": "execute_result"
    }
   ],
   "source": [
    "df['text'][369479]"
   ]
  },
  {
   "cell_type": "code",
   "execution_count": 17,
   "id": "ea5ba593",
   "metadata": {},
   "outputs": [
    {
     "data": {
      "text/plain": [
       "<AxesSubplot: >"
      ]
     },
     "execution_count": 17,
     "metadata": {},
     "output_type": "execute_result"
    },
    {
     "data": {
      "image/png": "[encoded data removed]",
      "text/plain": [
       "<Figure size 640x480 with 1 Axes>"
      ]
     },
     "metadata": {},
     "output_type": "display_data"
    }
   ],
   "source": [
    "df['Number_words'].hist()"
   ]
  },
  {
   "cell_type": "code",
   "execution_count": 18,
   "id": "7e61dcc6",
   "metadata": {},
   "outputs": [],
   "source": [
    "#Check the distribution of number of words \n",
    "text_3std = df['Number_words'][~((df['Number_words'] - df['Number_words'].mean()).abs() > 3*df['Number_words'].std())]"
   ]
  },
  {
   "cell_type": "code",
   "execution_count": 19,
   "id": "bacfc330",
   "metadata": {},
   "outputs": [
    {
     "name": "stdout",
     "output_type": "stream",
     "text": [
      "0.8149718127967273\n",
      "18.842533478384123\n"
     ]
    }
   ],
   "source": [
    "print(text_3std.skew()) \n",
    "print(text_3std.mean()) "
   ]
  },
  {
   "cell_type": "code",
   "execution_count": 20,
   "id": "63cf5cc1",
   "metadata": {},
   "outputs": [
    {
     "data": {
      "text/plain": [
       "<AxesSubplot: >"
      ]
     },
     "execution_count": 20,
     "metadata": {},
     "output_type": "execute_result"
    },
    {
     "data": {
      "image/png": "[encoded data removed]",
      "text/plain": [
       "<Figure size 640x480 with 1 Axes>"
      ]
     },
     "metadata": {},
     "output_type": "display_data"
    }
   ],
   "source": [
    "text_3std.hist()"
   ]
  },
  {
   "cell_type": "code",
   "execution_count": null,
   "id": "1c882d91",
   "metadata": {},
   "outputs": [],
   "source": []
  }
 ],
 "metadata": {
  "kernelspec": {
   "display_name": "Python [conda env:emotionanalysis_env]",
   "language": "python",
   "name": "conda-env-emotionanalysis_env-py"
  },
  "language_info": {
   "codemirror_mode": {
    "name": "ipython",
    "version": 3
   },
   "file_extension": ".py",
   "mimetype": "text/x-python",
   "name": "python",
   "nbconvert_exporter": "python",
   "pygments_lexer": "ipython3",
   "version": "3.10.4"
  }
 },
 "nbformat": 4,
 "nbformat_minor": 5
}
