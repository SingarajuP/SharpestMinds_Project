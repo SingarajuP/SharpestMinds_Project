{
 "cells": [
  {
   "cell_type": "code",
   "execution_count": 1,
   "id": "2e8a6c38",
   "metadata": {},
   "outputs": [],
   "source": [
    "#Required python libraries\n",
    "import pandas as pd\n",
    "import numpy as np\n",
    "import seaborn as sns\n",
    "import matplotlib.pyplot as plt\n",
    "import time\n",
    "import pickle\n",
    "import re\n",
    "import torch\n",
    "import nltk\n",
    "import nltk.data\n",
    "from string import punctuation \n",
    "from nltk.stem import WordNetLemmatizer\n",
    "from nltk.tokenize import sent_tokenize,word_tokenize\n",
    "from nltk.corpus import stopwords"
   ]
  },
  {
   "cell_type": "code",
   "execution_count": 3,
   "id": "4bf53a44",
   "metadata": {},
   "outputs": [],
   "source": [
    "df_senti=pd.read_csv(\"../data/raw/sentiments_training.csv\", encoding= 'unicode_escape')\n",
    "df_test=pd.read_csv(\"../data/raw/sentiments_test.csv\", encoding= 'unicode_escape')"
   ]
  },
  {
   "cell_type": "code",
   "execution_count": 4,
   "id": "5caa0f8f",
   "metadata": {},
   "outputs": [
    {
     "data": {
      "text/html": [
       "<div>\n",
       "<style scoped>\n",
       "    .dataframe tbody tr th:only-of-type {\n",
       "        vertical-align: middle;\n",
       "    }\n",
       "\n",
       "    .dataframe tbody tr th {\n",
       "        vertical-align: top;\n",
       "    }\n",
       "\n",
       "    .dataframe thead th {\n",
       "        text-align: right;\n",
       "    }\n",
       "</style>\n",
       "<table border=\"1\" class=\"dataframe\">\n",
       "  <thead>\n",
       "    <tr style=\"text-align: right;\">\n",
       "      <th></th>\n",
       "      <th>textID</th>\n",
       "      <th>text</th>\n",
       "      <th>selected_text</th>\n",
       "      <th>sentiment</th>\n",
       "      <th>Time of Tweet</th>\n",
       "      <th>Age of User</th>\n",
       "      <th>Country</th>\n",
       "      <th>Population -2020</th>\n",
       "      <th>Land Area (Km²)</th>\n",
       "      <th>Density (P/Km²)</th>\n",
       "    </tr>\n",
       "  </thead>\n",
       "  <tbody>\n",
       "    <tr>\n",
       "      <th>0</th>\n",
       "      <td>cb774db0d1</td>\n",
       "      <td>I`d have responded, if I were going</td>\n",
       "      <td>I`d have responded, if I were going</td>\n",
       "      <td>neutral</td>\n",
       "      <td>morning</td>\n",
       "      <td>0-20</td>\n",
       "      <td>Afghanistan</td>\n",
       "      <td>38928346</td>\n",
       "      <td>652860.0</td>\n",
       "      <td>60</td>\n",
       "    </tr>\n",
       "    <tr>\n",
       "      <th>1</th>\n",
       "      <td>549e992a42</td>\n",
       "      <td>Sooo SAD I will miss you here in San Diego!!!</td>\n",
       "      <td>Sooo SAD</td>\n",
       "      <td>negative</td>\n",
       "      <td>noon</td>\n",
       "      <td>21-30</td>\n",
       "      <td>Albania</td>\n",
       "      <td>2877797</td>\n",
       "      <td>27400.0</td>\n",
       "      <td>105</td>\n",
       "    </tr>\n",
       "    <tr>\n",
       "      <th>2</th>\n",
       "      <td>088c60f138</td>\n",
       "      <td>my boss is bullying me...</td>\n",
       "      <td>bullying me</td>\n",
       "      <td>negative</td>\n",
       "      <td>night</td>\n",
       "      <td>31-45</td>\n",
       "      <td>Algeria</td>\n",
       "      <td>43851044</td>\n",
       "      <td>2381740.0</td>\n",
       "      <td>18</td>\n",
       "    </tr>\n",
       "    <tr>\n",
       "      <th>3</th>\n",
       "      <td>9642c003ef</td>\n",
       "      <td>what interview! leave me alone</td>\n",
       "      <td>leave me alone</td>\n",
       "      <td>negative</td>\n",
       "      <td>morning</td>\n",
       "      <td>46-60</td>\n",
       "      <td>Andorra</td>\n",
       "      <td>77265</td>\n",
       "      <td>470.0</td>\n",
       "      <td>164</td>\n",
       "    </tr>\n",
       "    <tr>\n",
       "      <th>4</th>\n",
       "      <td>358bd9e861</td>\n",
       "      <td>Sons of ****, why couldn`t they put them on t...</td>\n",
       "      <td>Sons of ****,</td>\n",
       "      <td>negative</td>\n",
       "      <td>noon</td>\n",
       "      <td>60-70</td>\n",
       "      <td>Angola</td>\n",
       "      <td>32866272</td>\n",
       "      <td>1246700.0</td>\n",
       "      <td>26</td>\n",
       "    </tr>\n",
       "  </tbody>\n",
       "</table>\n",
       "</div>"
      ],
      "text/plain": [
       "       textID                                               text  \\\n",
       "0  cb774db0d1                I`d have responded, if I were going   \n",
       "1  549e992a42      Sooo SAD I will miss you here in San Diego!!!   \n",
       "2  088c60f138                          my boss is bullying me...   \n",
       "3  9642c003ef                     what interview! leave me alone   \n",
       "4  358bd9e861   Sons of ****, why couldn`t they put them on t...   \n",
       "\n",
       "                         selected_text sentiment Time of Tweet Age of User  \\\n",
       "0  I`d have responded, if I were going   neutral       morning        0-20   \n",
       "1                             Sooo SAD  negative          noon       21-30   \n",
       "2                          bullying me  negative         night       31-45   \n",
       "3                       leave me alone  negative       morning       46-60   \n",
       "4                        Sons of ****,  negative          noon       60-70   \n",
       "\n",
       "       Country  Population -2020  Land Area (Km²)  Density (P/Km²)  \n",
       "0  Afghanistan          38928346         652860.0               60  \n",
       "1      Albania           2877797          27400.0              105  \n",
       "2      Algeria          43851044        2381740.0               18  \n",
       "3      Andorra             77265            470.0              164  \n",
       "4       Angola          32866272        1246700.0               26  "
      ]
     },
     "execution_count": 4,
     "metadata": {},
     "output_type": "execute_result"
    }
   ],
   "source": [
    "df_senti.head()"
   ]
  },
  {
   "cell_type": "code",
   "execution_count": 5,
   "id": "f86534d7",
   "metadata": {},
   "outputs": [
    {
     "data": {
      "text/html": [
       "<div>\n",
       "<style scoped>\n",
       "    .dataframe tbody tr th:only-of-type {\n",
       "        vertical-align: middle;\n",
       "    }\n",
       "\n",
       "    .dataframe tbody tr th {\n",
       "        vertical-align: top;\n",
       "    }\n",
       "\n",
       "    .dataframe thead th {\n",
       "        text-align: right;\n",
       "    }\n",
       "</style>\n",
       "<table border=\"1\" class=\"dataframe\">\n",
       "  <thead>\n",
       "    <tr style=\"text-align: right;\">\n",
       "      <th></th>\n",
       "      <th>textID</th>\n",
       "      <th>text</th>\n",
       "      <th>sentiment</th>\n",
       "      <th>Time of Tweet</th>\n",
       "      <th>Age of User</th>\n",
       "      <th>Country</th>\n",
       "      <th>Population -2020</th>\n",
       "      <th>Land Area (Km²)</th>\n",
       "      <th>Density (P/Km²)</th>\n",
       "    </tr>\n",
       "  </thead>\n",
       "  <tbody>\n",
       "    <tr>\n",
       "      <th>0</th>\n",
       "      <td>f87dea47db</td>\n",
       "      <td>Last session of the day  http://twitpic.com/67ezh</td>\n",
       "      <td>neutral</td>\n",
       "      <td>morning</td>\n",
       "      <td>0-20</td>\n",
       "      <td>Afghanistan</td>\n",
       "      <td>38928346.0</td>\n",
       "      <td>652860.0</td>\n",
       "      <td>60.0</td>\n",
       "    </tr>\n",
       "    <tr>\n",
       "      <th>1</th>\n",
       "      <td>96d74cb729</td>\n",
       "      <td>Shanghai is also really exciting (precisely -...</td>\n",
       "      <td>positive</td>\n",
       "      <td>noon</td>\n",
       "      <td>21-30</td>\n",
       "      <td>Albania</td>\n",
       "      <td>2877797.0</td>\n",
       "      <td>27400.0</td>\n",
       "      <td>105.0</td>\n",
       "    </tr>\n",
       "    <tr>\n",
       "      <th>2</th>\n",
       "      <td>eee518ae67</td>\n",
       "      <td>Recession hit Veronique Branquinho, she has to...</td>\n",
       "      <td>negative</td>\n",
       "      <td>night</td>\n",
       "      <td>31-45</td>\n",
       "      <td>Algeria</td>\n",
       "      <td>43851044.0</td>\n",
       "      <td>2381740.0</td>\n",
       "      <td>18.0</td>\n",
       "    </tr>\n",
       "    <tr>\n",
       "      <th>3</th>\n",
       "      <td>01082688c6</td>\n",
       "      <td>happy bday!</td>\n",
       "      <td>positive</td>\n",
       "      <td>morning</td>\n",
       "      <td>46-60</td>\n",
       "      <td>Andorra</td>\n",
       "      <td>77265.0</td>\n",
       "      <td>470.0</td>\n",
       "      <td>164.0</td>\n",
       "    </tr>\n",
       "    <tr>\n",
       "      <th>4</th>\n",
       "      <td>33987a8ee5</td>\n",
       "      <td>http://twitpic.com/4w75p - I like it!!</td>\n",
       "      <td>positive</td>\n",
       "      <td>noon</td>\n",
       "      <td>60-70</td>\n",
       "      <td>Angola</td>\n",
       "      <td>32866272.0</td>\n",
       "      <td>1246700.0</td>\n",
       "      <td>26.0</td>\n",
       "    </tr>\n",
       "  </tbody>\n",
       "</table>\n",
       "</div>"
      ],
      "text/plain": [
       "       textID                                               text sentiment  \\\n",
       "0  f87dea47db  Last session of the day  http://twitpic.com/67ezh   neutral   \n",
       "1  96d74cb729   Shanghai is also really exciting (precisely -...  positive   \n",
       "2  eee518ae67  Recession hit Veronique Branquinho, she has to...  negative   \n",
       "3  01082688c6                                        happy bday!  positive   \n",
       "4  33987a8ee5             http://twitpic.com/4w75p - I like it!!  positive   \n",
       "\n",
       "  Time of Tweet Age of User      Country  Population -2020  Land Area (Km²)  \\\n",
       "0       morning        0-20  Afghanistan        38928346.0         652860.0   \n",
       "1          noon       21-30      Albania         2877797.0          27400.0   \n",
       "2         night       31-45      Algeria        43851044.0        2381740.0   \n",
       "3       morning       46-60      Andorra           77265.0            470.0   \n",
       "4          noon       60-70       Angola        32866272.0        1246700.0   \n",
       "\n",
       "   Density (P/Km²)  \n",
       "0             60.0  \n",
       "1            105.0  \n",
       "2             18.0  \n",
       "3            164.0  \n",
       "4             26.0  "
      ]
     },
     "execution_count": 5,
     "metadata": {},
     "output_type": "execute_result"
    }
   ],
   "source": [
    "df_test.head()"
   ]
  },
  {
   "cell_type": "code",
   "execution_count": 6,
   "id": "de34b8a5",
   "metadata": {},
   "outputs": [
    {
     "data": {
      "text/plain": [
       "((27481, 10), (4815, 9))"
      ]
     },
     "execution_count": 6,
     "metadata": {},
     "output_type": "execute_result"
    }
   ],
   "source": [
    "df_senti.shape,df_test.shape"
   ]
  },
  {
   "cell_type": "code",
   "execution_count": 7,
   "id": "2fb21447",
   "metadata": {},
   "outputs": [
    {
     "name": "stdout",
     "output_type": "stream",
     "text": [
      "Training set: neutral     11118\n",
      "positive     8582\n",
      "negative     7781\n",
      "Name: sentiment, dtype: int64\n",
      "Test set: neutral     1430\n",
      "positive    1103\n",
      "negative    1001\n",
      "Name: sentiment, dtype: int64\n"
     ]
    }
   ],
   "source": [
    "print(\"Training set:\",df_senti['sentiment'].value_counts())\n",
    "print(\"Test set:\",df_test['sentiment'].value_counts())"
   ]
  },
  {
   "cell_type": "code",
   "execution_count": 8,
   "id": "f6a95c34",
   "metadata": {},
   "outputs": [],
   "source": [
    "def text_cleaning(text):\n",
    "   \n",
    "    text = re.sub(r\"[^A-Za-z]\", \" \", str(text))\n",
    "    \n",
    "     #remove tags\n",
    "    text=re.sub(\"&lt;/?.*?&gt;\",\" &lt;&gt; \",text)\n",
    "    \n",
    "    # remove special characters and digits\n",
    "    text=re.sub(\"(\\\\d|\\\\W)+\",\" \",text)\n",
    "    \n",
    "    # Remove punctuation from text\n",
    "    text = \"\".join([c for c in text if c not in punctuation])\n",
    "    stopwords = nltk.corpus.stopwords.words('english')\n",
    "    text = text.split()\n",
    "    text = [w for w in text if not w in stopwords]\n",
    "    text = \" \".join(text)\n",
    "        \n",
    "    text = text.split()\n",
    "    lemmatizer = WordNetLemmatizer()\n",
    "    lemmatized_words = [lemmatizer.lemmatize(word) for word in text]\n",
    "    text = \" \".join(lemmatized_words)\n",
    "    text=text.lower()\n",
    "    \n",
    "    return text "
   ]
  },
  {
   "cell_type": "code",
   "execution_count": 47,
   "id": "ab2b64f3",
   "metadata": {},
   "outputs": [
    {
     "data": {
      "text/plain": [
       "'http www dothebouncy com smf shameless plugging best rangers forum earth'"
      ]
     },
     "execution_count": 47,
     "metadata": {},
     "output_type": "execute_result"
    }
   ],
   "source": [
    "df_senti['cleaned_text'][5]"
   ]
  },
  {
   "cell_type": "code",
   "execution_count": 9,
   "id": "c0e1bc0f",
   "metadata": {},
   "outputs": [],
   "source": [
    "df_senti['cleaned_text'] = df_senti['text'].apply(lambda x: text_cleaning(x))\n",
    "df_test['cleaned_text'] = df_test['text'].apply(lambda x: text_cleaning(x))"
   ]
  },
  {
   "cell_type": "code",
   "execution_count": 10,
   "id": "628c599c",
   "metadata": {},
   "outputs": [],
   "source": [
    "df_senti['number_words']=df_senti['cleaned_text'].str.split().apply(len)\n",
    "df_test['number_words']=df_test['cleaned_text'].str.split().apply(len)"
   ]
  },
  {
   "cell_type": "code",
   "execution_count": 11,
   "id": "c56f6d46",
   "metadata": {},
   "outputs": [
    {
     "data": {
      "text/plain": [
       "(0, 28, 7.0)"
      ]
     },
     "execution_count": 11,
     "metadata": {},
     "output_type": "execute_result"
    }
   ],
   "source": [
    "df_senti['number_words'].min(),df_senti['number_words'].max(), df_senti['number_words'].median()"
   ]
  },
  {
   "cell_type": "code",
   "execution_count": 12,
   "id": "1af135b6",
   "metadata": {},
   "outputs": [
    {
     "data": {
      "text/plain": [
       "(0, 30, 5.0)"
      ]
     },
     "execution_count": 12,
     "metadata": {},
     "output_type": "execute_result"
    }
   ],
   "source": [
    "df_test['number_words'].min(),df_test['number_words'].max(), df_test['number_words'].median()"
   ]
  },
  {
   "cell_type": "code",
   "execution_count": 13,
   "id": "5639561c",
   "metadata": {},
   "outputs": [
    {
     "name": "stdout",
     "output_type": "stream",
     "text": [
      "(26850, 12)\n",
      "(4806, 11)\n"
     ]
    }
   ],
   "source": [
    "df=df_senti[df_senti['number_words']>1]\n",
    "df_test=df_test[df_test['number_words']>0]\n",
    "\n",
    "print(df.shape)\n",
    "print(df_test.shape)"
   ]
  },
  {
   "cell_type": "code",
   "execution_count": 14,
   "id": "1c59a025",
   "metadata": {},
   "outputs": [
    {
     "name": "stdout",
     "output_type": "stream",
     "text": [
      "neutral     10699\n",
      "positive     8479\n",
      "negative     7672\n",
      "Name: sentiment, dtype: int64\n"
     ]
    }
   ],
   "source": [
    "print(df['sentiment'].value_counts())"
   ]
  },
  {
   "cell_type": "code",
   "execution_count": 15,
   "id": "61ee5d93",
   "metadata": {},
   "outputs": [],
   "source": [
    "df=df[['cleaned_text','sentiment']]"
   ]
  },
  {
   "cell_type": "code",
   "execution_count": 16,
   "id": "34a37879",
   "metadata": {},
   "outputs": [
    {
     "data": {
      "text/html": [
       "<div>\n",
       "<style scoped>\n",
       "    .dataframe tbody tr th:only-of-type {\n",
       "        vertical-align: middle;\n",
       "    }\n",
       "\n",
       "    .dataframe tbody tr th {\n",
       "        vertical-align: top;\n",
       "    }\n",
       "\n",
       "    .dataframe thead th {\n",
       "        text-align: right;\n",
       "    }\n",
       "</style>\n",
       "<table border=\"1\" class=\"dataframe\">\n",
       "  <thead>\n",
       "    <tr style=\"text-align: right;\">\n",
       "      <th></th>\n",
       "      <th>index</th>\n",
       "      <th>cleaned_text</th>\n",
       "      <th>sentiment</th>\n",
       "    </tr>\n",
       "  </thead>\n",
       "  <tbody>\n",
       "    <tr>\n",
       "      <th>0</th>\n",
       "      <td>0</td>\n",
       "      <td>i responded i going</td>\n",
       "      <td>neutral</td>\n",
       "    </tr>\n",
       "    <tr>\n",
       "      <th>1</th>\n",
       "      <td>1</td>\n",
       "      <td>sooo sad i miss san diego</td>\n",
       "      <td>negative</td>\n",
       "    </tr>\n",
       "    <tr>\n",
       "      <th>2</th>\n",
       "      <td>2</td>\n",
       "      <td>bos bullying</td>\n",
       "      <td>negative</td>\n",
       "    </tr>\n",
       "    <tr>\n",
       "      <th>3</th>\n",
       "      <td>3</td>\n",
       "      <td>interview leave alone</td>\n",
       "      <td>negative</td>\n",
       "    </tr>\n",
       "    <tr>\n",
       "      <th>4</th>\n",
       "      <td>4</td>\n",
       "      <td>sons put release already bought</td>\n",
       "      <td>negative</td>\n",
       "    </tr>\n",
       "    <tr>\n",
       "      <th>...</th>\n",
       "      <td>...</td>\n",
       "      <td>...</td>\n",
       "      <td>...</td>\n",
       "    </tr>\n",
       "    <tr>\n",
       "      <th>26845</th>\n",
       "      <td>27476</td>\n",
       "      <td>wish could come see u denver husband lost job ...</td>\n",
       "      <td>negative</td>\n",
       "    </tr>\n",
       "    <tr>\n",
       "      <th>26846</th>\n",
       "      <td>27477</td>\n",
       "      <td>i wondered rake the client made clear net forc...</td>\n",
       "      <td>negative</td>\n",
       "    </tr>\n",
       "    <tr>\n",
       "      <th>26847</th>\n",
       "      <td>27478</td>\n",
       "      <td>yay good enjoy break probably need hectic week...</td>\n",
       "      <td>positive</td>\n",
       "    </tr>\n",
       "    <tr>\n",
       "      <th>26848</th>\n",
       "      <td>27479</td>\n",
       "      <td>but worth</td>\n",
       "      <td>positive</td>\n",
       "    </tr>\n",
       "    <tr>\n",
       "      <th>26849</th>\n",
       "      <td>27480</td>\n",
       "      <td>all flirting going the atg smile yay hug</td>\n",
       "      <td>neutral</td>\n",
       "    </tr>\n",
       "  </tbody>\n",
       "</table>\n",
       "<p>26850 rows × 3 columns</p>\n",
       "</div>"
      ],
      "text/plain": [
       "       index                                       cleaned_text sentiment\n",
       "0          0                                i responded i going   neutral\n",
       "1          1                          sooo sad i miss san diego  negative\n",
       "2          2                                       bos bullying  negative\n",
       "3          3                              interview leave alone  negative\n",
       "4          4                    sons put release already bought  negative\n",
       "...      ...                                                ...       ...\n",
       "26845  27476  wish could come see u denver husband lost job ...  negative\n",
       "26846  27477  i wondered rake the client made clear net forc...  negative\n",
       "26847  27478  yay good enjoy break probably need hectic week...  positive\n",
       "26848  27479                                          but worth  positive\n",
       "26849  27480           all flirting going the atg smile yay hug   neutral\n",
       "\n",
       "[26850 rows x 3 columns]"
      ]
     },
     "execution_count": 16,
     "metadata": {},
     "output_type": "execute_result"
    }
   ],
   "source": [
    "df=df.reset_index()\n",
    "df"
   ]
  },
  {
   "cell_type": "code",
   "execution_count": 17,
   "id": "d17b5ced",
   "metadata": {},
   "outputs": [],
   "source": [
    "df.to_csv(\"../data/processed/cleaned_text_forbert_sentiment.csv\", index=False, header=False)"
   ]
  },
  {
   "cell_type": "code",
   "execution_count": 17,
   "id": "ada69a92",
   "metadata": {},
   "outputs": [
    {
     "data": {
      "text/html": [
       "<div>\n",
       "<style scoped>\n",
       "    .dataframe tbody tr th:only-of-type {\n",
       "        vertical-align: middle;\n",
       "    }\n",
       "\n",
       "    .dataframe tbody tr th {\n",
       "        vertical-align: top;\n",
       "    }\n",
       "\n",
       "    .dataframe thead th {\n",
       "        text-align: right;\n",
       "    }\n",
       "</style>\n",
       "<table border=\"1\" class=\"dataframe\">\n",
       "  <thead>\n",
       "    <tr style=\"text-align: right;\">\n",
       "      <th></th>\n",
       "      <th>index</th>\n",
       "      <th>cleaned_text</th>\n",
       "      <th>sentiment</th>\n",
       "      <th>labels</th>\n",
       "    </tr>\n",
       "  </thead>\n",
       "  <tbody>\n",
       "    <tr>\n",
       "      <th>0</th>\n",
       "      <td>0</td>\n",
       "      <td>i responded i going</td>\n",
       "      <td>neutral</td>\n",
       "      <td>0</td>\n",
       "    </tr>\n",
       "    <tr>\n",
       "      <th>1</th>\n",
       "      <td>1</td>\n",
       "      <td>sooo sad i miss san diego</td>\n",
       "      <td>negative</td>\n",
       "      <td>1</td>\n",
       "    </tr>\n",
       "    <tr>\n",
       "      <th>2</th>\n",
       "      <td>2</td>\n",
       "      <td>bos bullying</td>\n",
       "      <td>negative</td>\n",
       "      <td>1</td>\n",
       "    </tr>\n",
       "    <tr>\n",
       "      <th>3</th>\n",
       "      <td>3</td>\n",
       "      <td>interview leave alone</td>\n",
       "      <td>negative</td>\n",
       "      <td>1</td>\n",
       "    </tr>\n",
       "    <tr>\n",
       "      <th>4</th>\n",
       "      <td>4</td>\n",
       "      <td>sons put release already bought</td>\n",
       "      <td>negative</td>\n",
       "      <td>1</td>\n",
       "    </tr>\n",
       "  </tbody>\n",
       "</table>\n",
       "</div>"
      ],
      "text/plain": [
       "   index                     cleaned_text sentiment  labels\n",
       "0      0              i responded i going   neutral       0\n",
       "1      1        sooo sad i miss san diego  negative       1\n",
       "2      2                     bos bullying  negative       1\n",
       "3      3            interview leave alone  negative       1\n",
       "4      4  sons put release already bought  negative       1"
      ]
     },
     "execution_count": 17,
     "metadata": {},
     "output_type": "execute_result"
    }
   ],
   "source": [
    "df['labels'] = df['sentiment'].factorize()[0]\n",
    "df.head()"
   ]
  },
  {
   "cell_type": "code",
   "execution_count": 18,
   "id": "2994d55b",
   "metadata": {},
   "outputs": [
    {
     "data": {
      "text/html": [
       "<div>\n",
       "<style scoped>\n",
       "    .dataframe tbody tr th:only-of-type {\n",
       "        vertical-align: middle;\n",
       "    }\n",
       "\n",
       "    .dataframe tbody tr th {\n",
       "        vertical-align: top;\n",
       "    }\n",
       "\n",
       "    .dataframe thead th {\n",
       "        text-align: right;\n",
       "    }\n",
       "</style>\n",
       "<table border=\"1\" class=\"dataframe\">\n",
       "  <thead>\n",
       "    <tr style=\"text-align: right;\">\n",
       "      <th></th>\n",
       "      <th>sentiment</th>\n",
       "    </tr>\n",
       "  </thead>\n",
       "  <tbody>\n",
       "    <tr>\n",
       "      <th>0</th>\n",
       "      <td>neutral</td>\n",
       "    </tr>\n",
       "    <tr>\n",
       "      <th>1</th>\n",
       "      <td>negative</td>\n",
       "    </tr>\n",
       "    <tr>\n",
       "      <th>2</th>\n",
       "      <td>positive</td>\n",
       "    </tr>\n",
       "  </tbody>\n",
       "</table>\n",
       "</div>"
      ],
      "text/plain": [
       "  sentiment\n",
       "0   neutral\n",
       "1  negative\n",
       "2  positive"
      ]
     },
     "execution_count": 18,
     "metadata": {},
     "output_type": "execute_result"
    }
   ],
   "source": [
    "uniquevalues = pd.unique(df[['sentiment']].values.ravel())\n",
    "df_unique=pd.DataFrame(uniquevalues,columns=['sentiment'])\n",
    "df_unique"
   ]
  },
  {
   "cell_type": "code",
   "execution_count": 19,
   "id": "69ca22a1",
   "metadata": {},
   "outputs": [
    {
     "data": {
      "text/html": [
       "<div>\n",
       "<style scoped>\n",
       "    .dataframe tbody tr th:only-of-type {\n",
       "        vertical-align: middle;\n",
       "    }\n",
       "\n",
       "    .dataframe tbody tr th {\n",
       "        vertical-align: top;\n",
       "    }\n",
       "\n",
       "    .dataframe thead th {\n",
       "        text-align: right;\n",
       "    }\n",
       "</style>\n",
       "<table border=\"1\" class=\"dataframe\">\n",
       "  <thead>\n",
       "    <tr style=\"text-align: right;\">\n",
       "      <th></th>\n",
       "      <th>textID</th>\n",
       "      <th>text</th>\n",
       "      <th>sentiment</th>\n",
       "      <th>Time of Tweet</th>\n",
       "      <th>Age of User</th>\n",
       "      <th>Country</th>\n",
       "      <th>Population -2020</th>\n",
       "      <th>Land Area (Km²)</th>\n",
       "      <th>Density (P/Km²)</th>\n",
       "      <th>cleaned_text</th>\n",
       "      <th>number_words</th>\n",
       "    </tr>\n",
       "  </thead>\n",
       "  <tbody>\n",
       "    <tr>\n",
       "      <th>0</th>\n",
       "      <td>f87dea47db</td>\n",
       "      <td>Last session of the day  http://twitpic.com/67ezh</td>\n",
       "      <td>neutral</td>\n",
       "      <td>morning</td>\n",
       "      <td>0-20</td>\n",
       "      <td>Afghanistan</td>\n",
       "      <td>38928346.0</td>\n",
       "      <td>652860.0</td>\n",
       "      <td>60.0</td>\n",
       "      <td>last session day http twitpic com ezh</td>\n",
       "      <td>7</td>\n",
       "    </tr>\n",
       "    <tr>\n",
       "      <th>1</th>\n",
       "      <td>96d74cb729</td>\n",
       "      <td>Shanghai is also really exciting (precisely -...</td>\n",
       "      <td>positive</td>\n",
       "      <td>noon</td>\n",
       "      <td>21-30</td>\n",
       "      <td>Albania</td>\n",
       "      <td>2877797.0</td>\n",
       "      <td>27400.0</td>\n",
       "      <td>105.0</td>\n",
       "      <td>shanghai also really exciting precisely skyscr...</td>\n",
       "      <td>12</td>\n",
       "    </tr>\n",
       "    <tr>\n",
       "      <th>2</th>\n",
       "      <td>eee518ae67</td>\n",
       "      <td>Recession hit Veronique Branquinho, she has to...</td>\n",
       "      <td>negative</td>\n",
       "      <td>night</td>\n",
       "      <td>31-45</td>\n",
       "      <td>Algeria</td>\n",
       "      <td>43851044.0</td>\n",
       "      <td>2381740.0</td>\n",
       "      <td>18.0</td>\n",
       "      <td>recession hit veronique branquinho quit compan...</td>\n",
       "      <td>7</td>\n",
       "    </tr>\n",
       "    <tr>\n",
       "      <th>3</th>\n",
       "      <td>01082688c6</td>\n",
       "      <td>happy bday!</td>\n",
       "      <td>positive</td>\n",
       "      <td>morning</td>\n",
       "      <td>46-60</td>\n",
       "      <td>Andorra</td>\n",
       "      <td>77265.0</td>\n",
       "      <td>470.0</td>\n",
       "      <td>164.0</td>\n",
       "      <td>happy bday</td>\n",
       "      <td>2</td>\n",
       "    </tr>\n",
       "    <tr>\n",
       "      <th>4</th>\n",
       "      <td>33987a8ee5</td>\n",
       "      <td>http://twitpic.com/4w75p - I like it!!</td>\n",
       "      <td>positive</td>\n",
       "      <td>noon</td>\n",
       "      <td>60-70</td>\n",
       "      <td>Angola</td>\n",
       "      <td>32866272.0</td>\n",
       "      <td>1246700.0</td>\n",
       "      <td>26.0</td>\n",
       "      <td>http twitpic com w p i like</td>\n",
       "      <td>7</td>\n",
       "    </tr>\n",
       "    <tr>\n",
       "      <th>...</th>\n",
       "      <td>...</td>\n",
       "      <td>...</td>\n",
       "      <td>...</td>\n",
       "      <td>...</td>\n",
       "      <td>...</td>\n",
       "      <td>...</td>\n",
       "      <td>...</td>\n",
       "      <td>...</td>\n",
       "      <td>...</td>\n",
       "      <td>...</td>\n",
       "      <td>...</td>\n",
       "    </tr>\n",
       "    <tr>\n",
       "      <th>3529</th>\n",
       "      <td>e5f0e6ef4b</td>\n",
       "      <td>its at 3 am, im very tired but i can`t sleep  ...</td>\n",
       "      <td>negative</td>\n",
       "      <td>noon</td>\n",
       "      <td>21-30</td>\n",
       "      <td>Nicaragua</td>\n",
       "      <td>6624554.0</td>\n",
       "      <td>120340.0</td>\n",
       "      <td>55.0</td>\n",
       "      <td>im tired sleep try</td>\n",
       "      <td>4</td>\n",
       "    </tr>\n",
       "    <tr>\n",
       "      <th>3530</th>\n",
       "      <td>416863ce47</td>\n",
       "      <td>All alone in this old house again.  Thanks for...</td>\n",
       "      <td>positive</td>\n",
       "      <td>night</td>\n",
       "      <td>31-45</td>\n",
       "      <td>Niger</td>\n",
       "      <td>24206644.0</td>\n",
       "      <td>1266700.0</td>\n",
       "      <td>19.0</td>\n",
       "      <td>all alone old house thanks net keep alive kick...</td>\n",
       "      <td>15</td>\n",
       "    </tr>\n",
       "    <tr>\n",
       "      <th>3531</th>\n",
       "      <td>6332da480c</td>\n",
       "      <td>I know what you mean. My little dog is sinkin...</td>\n",
       "      <td>negative</td>\n",
       "      <td>morning</td>\n",
       "      <td>46-60</td>\n",
       "      <td>Nigeria</td>\n",
       "      <td>206139589.0</td>\n",
       "      <td>910770.0</td>\n",
       "      <td>226.0</td>\n",
       "      <td>i know mean my little dog sinking depression w...</td>\n",
       "      <td>12</td>\n",
       "    </tr>\n",
       "    <tr>\n",
       "      <th>3532</th>\n",
       "      <td>df1baec676</td>\n",
       "      <td>_sutra what is your next youtube video gonna b...</td>\n",
       "      <td>positive</td>\n",
       "      <td>noon</td>\n",
       "      <td>60-70</td>\n",
       "      <td>North Korea</td>\n",
       "      <td>25778816.0</td>\n",
       "      <td>120410.0</td>\n",
       "      <td>214.0</td>\n",
       "      <td>sutra next youtube video gonna i love video</td>\n",
       "      <td>8</td>\n",
       "    </tr>\n",
       "    <tr>\n",
       "      <th>3533</th>\n",
       "      <td>469e15c5a8</td>\n",
       "      <td>http://twitpic.com/4woj2 - omgssh  ang cute n...</td>\n",
       "      <td>positive</td>\n",
       "      <td>night</td>\n",
       "      <td>70-100</td>\n",
       "      <td>North Macedonia</td>\n",
       "      <td>2083374.0</td>\n",
       "      <td>25220.0</td>\n",
       "      <td>83.0</td>\n",
       "      <td>http twitpic com woj omgssh ang cute ng bby</td>\n",
       "      <td>9</td>\n",
       "    </tr>\n",
       "  </tbody>\n",
       "</table>\n",
       "<p>3525 rows × 11 columns</p>\n",
       "</div>"
      ],
      "text/plain": [
       "          textID                                               text sentiment  \\\n",
       "0     f87dea47db  Last session of the day  http://twitpic.com/67ezh   neutral   \n",
       "1     96d74cb729   Shanghai is also really exciting (precisely -...  positive   \n",
       "2     eee518ae67  Recession hit Veronique Branquinho, she has to...  negative   \n",
       "3     01082688c6                                        happy bday!  positive   \n",
       "4     33987a8ee5             http://twitpic.com/4w75p - I like it!!  positive   \n",
       "...          ...                                                ...       ...   \n",
       "3529  e5f0e6ef4b  its at 3 am, im very tired but i can`t sleep  ...  negative   \n",
       "3530  416863ce47  All alone in this old house again.  Thanks for...  positive   \n",
       "3531  6332da480c   I know what you mean. My little dog is sinkin...  negative   \n",
       "3532  df1baec676  _sutra what is your next youtube video gonna b...  positive   \n",
       "3533  469e15c5a8   http://twitpic.com/4woj2 - omgssh  ang cute n...  positive   \n",
       "\n",
       "     Time of Tweet Age of User          Country  Population -2020  \\\n",
       "0          morning        0-20      Afghanistan        38928346.0   \n",
       "1             noon       21-30          Albania         2877797.0   \n",
       "2            night       31-45          Algeria        43851044.0   \n",
       "3          morning       46-60          Andorra           77265.0   \n",
       "4             noon       60-70           Angola        32866272.0   \n",
       "...            ...         ...              ...               ...   \n",
       "3529          noon       21-30        Nicaragua         6624554.0   \n",
       "3530         night       31-45            Niger        24206644.0   \n",
       "3531       morning       46-60          Nigeria       206139589.0   \n",
       "3532          noon       60-70      North Korea        25778816.0   \n",
       "3533         night      70-100  North Macedonia         2083374.0   \n",
       "\n",
       "      Land Area (Km²)  Density (P/Km²)  \\\n",
       "0            652860.0             60.0   \n",
       "1             27400.0            105.0   \n",
       "2           2381740.0             18.0   \n",
       "3               470.0            164.0   \n",
       "4           1246700.0             26.0   \n",
       "...               ...              ...   \n",
       "3529         120340.0             55.0   \n",
       "3530        1266700.0             19.0   \n",
       "3531         910770.0            226.0   \n",
       "3532         120410.0            214.0   \n",
       "3533          25220.0             83.0   \n",
       "\n",
       "                                           cleaned_text  number_words  \n",
       "0                 last session day http twitpic com ezh             7  \n",
       "1     shanghai also really exciting precisely skyscr...            12  \n",
       "2     recession hit veronique branquinho quit compan...             7  \n",
       "3                                            happy bday             2  \n",
       "4                           http twitpic com w p i like             7  \n",
       "...                                                 ...           ...  \n",
       "3529                                 im tired sleep try             4  \n",
       "3530  all alone old house thanks net keep alive kick...            15  \n",
       "3531  i know mean my little dog sinking depression w...            12  \n",
       "3532        sutra next youtube video gonna i love video             8  \n",
       "3533        http twitpic com woj omgssh ang cute ng bby             9  \n",
       "\n",
       "[3525 rows x 11 columns]"
      ]
     },
     "execution_count": 19,
     "metadata": {},
     "output_type": "execute_result"
    }
   ],
   "source": [
    "df_test=df_test.dropna()\n",
    "df_test"
   ]
  },
  {
   "cell_type": "code",
   "execution_count": 20,
   "id": "6c74e517",
   "metadata": {},
   "outputs": [],
   "source": [
    "df_test=df_test.reset_index()\n",
    "df_test=df_test[['cleaned_text','sentiment']].copy()"
   ]
  },
  {
   "cell_type": "code",
   "execution_count": 21,
   "id": "e6d52557",
   "metadata": {},
   "outputs": [],
   "source": [
    "mapp={'neutral':0,'negative':1,'positive':2}\n",
    "df_test['labels']=df_test['sentiment'].map(mapp)"
   ]
  },
  {
   "cell_type": "code",
   "execution_count": 22,
   "id": "a7a92267",
   "metadata": {},
   "outputs": [
    {
     "data": {
      "text/html": [
       "<div>\n",
       "<style scoped>\n",
       "    .dataframe tbody tr th:only-of-type {\n",
       "        vertical-align: middle;\n",
       "    }\n",
       "\n",
       "    .dataframe tbody tr th {\n",
       "        vertical-align: top;\n",
       "    }\n",
       "\n",
       "    .dataframe thead th {\n",
       "        text-align: right;\n",
       "    }\n",
       "</style>\n",
       "<table border=\"1\" class=\"dataframe\">\n",
       "  <thead>\n",
       "    <tr style=\"text-align: right;\">\n",
       "      <th></th>\n",
       "      <th>cleaned_text</th>\n",
       "      <th>sentiment</th>\n",
       "      <th>labels</th>\n",
       "    </tr>\n",
       "  </thead>\n",
       "  <tbody>\n",
       "    <tr>\n",
       "      <th>0</th>\n",
       "      <td>last session day http twitpic com ezh</td>\n",
       "      <td>neutral</td>\n",
       "      <td>0</td>\n",
       "    </tr>\n",
       "    <tr>\n",
       "      <th>1</th>\n",
       "      <td>shanghai also really exciting precisely skyscr...</td>\n",
       "      <td>positive</td>\n",
       "      <td>2</td>\n",
       "    </tr>\n",
       "    <tr>\n",
       "      <th>2</th>\n",
       "      <td>recession hit veronique branquinho quit compan...</td>\n",
       "      <td>negative</td>\n",
       "      <td>1</td>\n",
       "    </tr>\n",
       "    <tr>\n",
       "      <th>3</th>\n",
       "      <td>happy bday</td>\n",
       "      <td>positive</td>\n",
       "      <td>2</td>\n",
       "    </tr>\n",
       "    <tr>\n",
       "      <th>4</th>\n",
       "      <td>http twitpic com w p i like</td>\n",
       "      <td>positive</td>\n",
       "      <td>2</td>\n",
       "    </tr>\n",
       "    <tr>\n",
       "      <th>...</th>\n",
       "      <td>...</td>\n",
       "      <td>...</td>\n",
       "      <td>...</td>\n",
       "    </tr>\n",
       "    <tr>\n",
       "      <th>3520</th>\n",
       "      <td>im tired sleep try</td>\n",
       "      <td>negative</td>\n",
       "      <td>1</td>\n",
       "    </tr>\n",
       "    <tr>\n",
       "      <th>3521</th>\n",
       "      <td>all alone old house thanks net keep alive kick...</td>\n",
       "      <td>positive</td>\n",
       "      <td>2</td>\n",
       "    </tr>\n",
       "    <tr>\n",
       "      <th>3522</th>\n",
       "      <td>i know mean my little dog sinking depression w...</td>\n",
       "      <td>negative</td>\n",
       "      <td>1</td>\n",
       "    </tr>\n",
       "    <tr>\n",
       "      <th>3523</th>\n",
       "      <td>sutra next youtube video gonna i love video</td>\n",
       "      <td>positive</td>\n",
       "      <td>2</td>\n",
       "    </tr>\n",
       "    <tr>\n",
       "      <th>3524</th>\n",
       "      <td>http twitpic com woj omgssh ang cute ng bby</td>\n",
       "      <td>positive</td>\n",
       "      <td>2</td>\n",
       "    </tr>\n",
       "  </tbody>\n",
       "</table>\n",
       "<p>3525 rows × 3 columns</p>\n",
       "</div>"
      ],
      "text/plain": [
       "                                           cleaned_text sentiment  labels\n",
       "0                 last session day http twitpic com ezh   neutral       0\n",
       "1     shanghai also really exciting precisely skyscr...  positive       2\n",
       "2     recession hit veronique branquinho quit compan...  negative       1\n",
       "3                                            happy bday  positive       2\n",
       "4                           http twitpic com w p i like  positive       2\n",
       "...                                                 ...       ...     ...\n",
       "3520                                 im tired sleep try  negative       1\n",
       "3521  all alone old house thanks net keep alive kick...  positive       2\n",
       "3522  i know mean my little dog sinking depression w...  negative       1\n",
       "3523        sutra next youtube video gonna i love video  positive       2\n",
       "3524        http twitpic com woj omgssh ang cute ng bby  positive       2\n",
       "\n",
       "[3525 rows x 3 columns]"
      ]
     },
     "execution_count": 22,
     "metadata": {},
     "output_type": "execute_result"
    }
   ],
   "source": [
    "df_test"
   ]
  },
  {
   "cell_type": "code",
   "execution_count": 23,
   "id": "1d760374",
   "metadata": {},
   "outputs": [],
   "source": [
    "#importing libraries for models and nlp tasks\n",
    "from sklearn.model_selection import train_test_split\n",
    "\n",
    "from sklearn.linear_model import LogisticRegression\n",
    "from sklearn.ensemble import RandomForestClassifier\n",
    "from sklearn.metrics import accuracy_score\n",
    "\n",
    "from sklearn.svm import SVC\n",
    "from sklearn.neighbors import KNeighborsClassifier\n",
    "from xgboost import XGBClassifier\n",
    "\n",
    "from sklearn.metrics import confusion_matrix\n",
    "from sklearn.metrics import classification_report\n",
    "from sklearn.model_selection import GridSearchCV\n",
    "\n",
    "from sentence_transformers import SentenceTransformer\n"
   ]
  },
  {
   "cell_type": "code",
   "execution_count": 24,
   "id": "8691dba9",
   "metadata": {},
   "outputs": [],
   "source": [
    "ytrain =df['labels']\n",
    "ytest=df_test['labels']"
   ]
  },
  {
   "cell_type": "code",
   "execution_count": 28,
   "id": "65393aa9",
   "metadata": {},
   "outputs": [],
   "source": [
    "Xtrain=df['cleaned_text']\n",
    "Xtest=df_test['cleaned_text']"
   ]
  },
  {
   "cell_type": "code",
   "execution_count": 25,
   "id": "e900003a",
   "metadata": {},
   "outputs": [
    {
     "data": {
      "application/vnd.jupyter.widget-view+json": {
       "model_id": "a44013173df34817a35eb3d2c81a6069",
       "version_major": 2,
       "version_minor": 0
      },
      "text/plain": [
       "Downloading:   0%|          | 0.00/1.18k [00:00<?, ?B/s]"
      ]
     },
     "metadata": {},
     "output_type": "display_data"
    },
    {
     "data": {
      "application/vnd.jupyter.widget-view+json": {
       "model_id": "8459013e83f54fff94026e6a7e97620b",
       "version_major": 2,
       "version_minor": 0
      },
      "text/plain": [
       "Downloading:   0%|          | 0.00/190 [00:00<?, ?B/s]"
      ]
     },
     "metadata": {},
     "output_type": "display_data"
    },
    {
     "data": {
      "application/vnd.jupyter.widget-view+json": {
       "model_id": "87b29bf9d27948a48233e5bb2b3d8e15",
       "version_major": 2,
       "version_minor": 0
      },
      "text/plain": [
       "Downloading:   0%|          | 0.00/10.6k [00:00<?, ?B/s]"
      ]
     },
     "metadata": {},
     "output_type": "display_data"
    },
    {
     "data": {
      "application/vnd.jupyter.widget-view+json": {
       "model_id": "27295633b2544245bd1bca2719b3166a",
       "version_major": 2,
       "version_minor": 0
      },
      "text/plain": [
       "Downloading:   0%|          | 0.00/612 [00:00<?, ?B/s]"
      ]
     },
     "metadata": {},
     "output_type": "display_data"
    },
    {
     "data": {
      "application/vnd.jupyter.widget-view+json": {
       "model_id": "30a6fbb084464566914aa64e6cee5516",
       "version_major": 2,
       "version_minor": 0
      },
      "text/plain": [
       "Downloading:   0%|          | 0.00/116 [00:00<?, ?B/s]"
      ]
     },
     "metadata": {},
     "output_type": "display_data"
    },
    {
     "data": {
      "application/vnd.jupyter.widget-view+json": {
       "model_id": "22fee5e6f27d4ce284e177dd8afd6016",
       "version_major": 2,
       "version_minor": 0
      },
      "text/plain": [
       "Downloading:   0%|          | 0.00/39.3k [00:00<?, ?B/s]"
      ]
     },
     "metadata": {},
     "output_type": "display_data"
    },
    {
     "data": {
      "application/vnd.jupyter.widget-view+json": {
       "model_id": "89f8b43228e74295beb2e46e48d6546a",
       "version_major": 2,
       "version_minor": 0
      },
      "text/plain": [
       "Downloading:   0%|          | 0.00/90.9M [00:00<?, ?B/s]"
      ]
     },
     "metadata": {},
     "output_type": "display_data"
    },
    {
     "data": {
      "application/vnd.jupyter.widget-view+json": {
       "model_id": "7abbe31ae3ff4ec184142d9dbb7e1a0c",
       "version_major": 2,
       "version_minor": 0
      },
      "text/plain": [
       "Downloading:   0%|          | 0.00/53.0 [00:00<?, ?B/s]"
      ]
     },
     "metadata": {},
     "output_type": "display_data"
    },
    {
     "data": {
      "application/vnd.jupyter.widget-view+json": {
       "model_id": "170d005789fd422092f6747981db7144",
       "version_major": 2,
       "version_minor": 0
      },
      "text/plain": [
       "Downloading:   0%|          | 0.00/112 [00:00<?, ?B/s]"
      ]
     },
     "metadata": {},
     "output_type": "display_data"
    },
    {
     "data": {
      "application/vnd.jupyter.widget-view+json": {
       "model_id": "4ee15acf796d4e08a6409b565eb2100e",
       "version_major": 2,
       "version_minor": 0
      },
      "text/plain": [
       "Downloading:   0%|          | 0.00/466k [00:00<?, ?B/s]"
      ]
     },
     "metadata": {},
     "output_type": "display_data"
    },
    {
     "data": {
      "application/vnd.jupyter.widget-view+json": {
       "model_id": "b1312ba4e3ed40a484b348a7c439298b",
       "version_major": 2,
       "version_minor": 0
      },
      "text/plain": [
       "Downloading:   0%|          | 0.00/350 [00:00<?, ?B/s]"
      ]
     },
     "metadata": {},
     "output_type": "display_data"
    },
    {
     "data": {
      "application/vnd.jupyter.widget-view+json": {
       "model_id": "b18c24179e5e4b818fcd81720d1bb3dc",
       "version_major": 2,
       "version_minor": 0
      },
      "text/plain": [
       "Downloading:   0%|          | 0.00/13.2k [00:00<?, ?B/s]"
      ]
     },
     "metadata": {},
     "output_type": "display_data"
    },
    {
     "data": {
      "application/vnd.jupyter.widget-view+json": {
       "model_id": "3b37d35800644c2eb2bce363c9043097",
       "version_major": 2,
       "version_minor": 0
      },
      "text/plain": [
       "Downloading:   0%|          | 0.00/232k [00:00<?, ?B/s]"
      ]
     },
     "metadata": {},
     "output_type": "display_data"
    },
    {
     "data": {
      "application/vnd.jupyter.widget-view+json": {
       "model_id": "2872a2d121024277acea17ad9dcca59c",
       "version_major": 2,
       "version_minor": 0
      },
      "text/plain": [
       "Downloading:   0%|          | 0.00/349 [00:00<?, ?B/s]"
      ]
     },
     "metadata": {},
     "output_type": "display_data"
    }
   ],
   "source": [
    "model = SentenceTransformer('all-MiniLM-L6-v2')\n"
   ]
  },
  {
   "cell_type": "code",
   "execution_count": 30,
   "id": "1f6a028a",
   "metadata": {},
   "outputs": [],
   "source": [
    "def sentence(text):\n",
    "    return model.encode(text)\n",
    "    "
   ]
  },
  {
   "cell_type": "code",
   "execution_count": 36,
   "id": "da226cf5",
   "metadata": {},
   "outputs": [],
   "source": [
    "def bertembeddings(Xtrain,Xtest):\n",
    "    Xtrain=Xtrain\n",
    "    Xtest=Xtest\n",
    "    \n",
    "    with torch.no_grad():    \n",
    "\n",
    "\n",
    "        train = Xtrain.apply(lambda x: sentence(x))\n",
    "        test = Xtest.apply(lambda x: sentence(x))\n",
    "\n",
    "\n",
    "    tf= [x for x in train.transpose()]\n",
    "    train_features = np.asarray(tf)\n",
    "\n",
    "    t= [x for x in test.transpose()]\n",
    "    test_features = np.asarray(t)\n",
    "    \n",
    "    return train_features,test_features"
   ]
  },
  {
   "cell_type": "code",
   "execution_count": 37,
   "id": "031e856a",
   "metadata": {},
   "outputs": [],
   "source": [
    "train_embed,test_embed=bertembeddings(Xtrain,Xtest)"
   ]
  },
  {
   "cell_type": "code",
   "execution_count": 34,
   "id": "9da2d768",
   "metadata": {},
   "outputs": [
    {
     "name": "stdout",
     "output_type": "stream",
     "text": [
      "[ 2.75925379e-02 -3.77202332e-02  3.62994126e-03  2.83393506e-02\n",
      " -5.12852333e-03 -7.83601552e-02  8.49525332e-02  4.48062830e-02\n",
      " -2.06068344e-02 -1.40900034e-02 -5.24994917e-02 -8.15637410e-02\n",
      " -4.74934131e-02  6.75385073e-02  3.96818556e-02  2.09519044e-02\n",
      "  4.42109369e-02 -9.44448262e-02 -1.20808460e-01 -5.52069163e-03\n",
      " -7.53235593e-02 -6.94265240e-04 -5.02348021e-02  5.60733825e-02\n",
      " -5.93579374e-02  2.23521162e-02 -1.85634531e-02  5.73833063e-02\n",
      "  1.00166677e-02  1.97142977e-02 -8.10729116e-02  1.81256142e-02\n",
      " -4.55687381e-02  3.85190062e-02 -4.49471734e-02  8.82585943e-02\n",
      " -4.62960638e-03 -1.09590098e-01  6.17955551e-02  2.05418211e-03\n",
      "  1.36114834e-02 -1.42946858e-02  4.42084335e-02  3.43574844e-02\n",
      "  7.19881877e-02  6.50703860e-03  6.99381856e-03 -3.36058512e-02\n",
      "  3.11211608e-02 -2.65769437e-02  6.18243124e-03 -8.35235510e-03\n",
      " -3.64929475e-02 -4.71998379e-03 -4.17555653e-04  3.56258526e-02\n",
      " -5.57568371e-02 -2.17526108e-02  4.62878533e-02 -1.43572772e-02\n",
      "  7.19522685e-02 -2.90742777e-02 -2.67428439e-02  5.47011346e-02\n",
      " -2.06905473e-02  1.04955938e-02 -5.26482761e-02  2.58729968e-04\n",
      " -3.70787606e-02  5.82208447e-02  2.98774540e-02 -2.92618922e-03\n",
      " -1.51310498e-02 -5.64354099e-03  5.87842381e-03 -2.97183450e-02\n",
      " -5.68193523e-03  2.28172857e-02  9.11909807e-03 -5.97193055e-02\n",
      " -1.66677814e-02 -1.03139378e-01 -2.96089239e-02 -2.81027555e-02\n",
      "  1.53293712e-02 -5.45073077e-02 -2.04653759e-03  7.57060274e-02\n",
      " -4.66021262e-02  2.00791396e-02  6.57743961e-02  3.13248187e-02\n",
      " -2.03863364e-02  3.21564190e-02 -1.81415379e-02  1.68549120e-02\n",
      " -2.26984825e-02  3.44902314e-02 -3.91495269e-04  9.10978764e-02\n",
      "  5.97973503e-02  9.84109044e-02  5.32447286e-02 -5.06207347e-02\n",
      " -7.66649470e-02  1.89956352e-02 -1.02877557e-01  4.44096141e-02\n",
      " -1.13490885e-02  2.18820255e-02 -2.46435069e-02  2.06481898e-03\n",
      " -2.55701281e-02 -1.31149059e-02  4.01843749e-02  7.12963268e-02\n",
      "  3.75739001e-02  9.35463607e-02  7.47707784e-02 -9.90888178e-02\n",
      " -1.98407155e-02 -1.31207397e-02 -4.40940224e-02  7.47210309e-02\n",
      " -9.77919549e-02 -1.22987173e-01  5.50898053e-02 -6.70387000e-33\n",
      "  3.07999812e-02 -2.07253527e-02  3.55555266e-02  9.36782584e-02\n",
      "  5.10178544e-02  9.96601209e-03 -4.22091559e-02 -3.85535844e-02\n",
      "  6.03942238e-02 -7.82944113e-02  3.88037786e-02 -1.47364577e-02\n",
      "  2.01903842e-02  4.88767214e-02 -1.80079397e-02  2.23869532e-02\n",
      " -4.81895395e-02  2.18011792e-05 -3.25659886e-02 -7.01929852e-02\n",
      "  3.26328017e-02 -1.91602688e-02 -4.37525511e-02  6.26617521e-02\n",
      "  3.71328858e-03 -4.62219864e-03  2.62111635e-03 -1.00080118e-01\n",
      "  9.02363285e-02  4.04289700e-02 -5.33980392e-02 -1.24110458e-02\n",
      " -7.25698620e-02  1.02608390e-02  1.59402825e-02 -1.68794505e-02\n",
      " -1.97187043e-03 -2.13194024e-02 -3.22835892e-02 -1.81282125e-02\n",
      " -4.27282378e-02  1.40563818e-02 -5.43515347e-02  1.79636932e-03\n",
      "  6.10984536e-03 -9.70018329e-04  4.95747589e-02  9.82721522e-03\n",
      " -6.60756156e-02 -2.81075519e-02 -1.17852002e-01 -3.20818275e-02\n",
      " -1.03521630e-01 -5.10949269e-02 -9.54225510e-02 -1.16450023e-02\n",
      " -1.76780224e-02  1.69034991e-02 -5.35085332e-03  1.86290387e-02\n",
      "  4.31101359e-02  6.29786924e-02 -9.98777822e-02 -5.29833660e-02\n",
      " -6.18026480e-02 -5.69246039e-02 -2.55648009e-02 -1.26579544e-02\n",
      "  1.43895643e-02 -8.88440758e-03  3.07995602e-02  8.32473673e-03\n",
      "  7.76538923e-02  4.87631150e-02  6.09230474e-02  2.62936344e-03\n",
      " -5.62140048e-02 -2.02235598e-02 -1.39243752e-02 -8.12610462e-02\n",
      "  5.49789844e-03  5.67515083e-02 -9.27787349e-02  1.62448846e-02\n",
      "  5.98162040e-02 -1.22101849e-03 -2.43924442e-03 -5.65674454e-02\n",
      "  3.10214027e-03 -4.37980071e-02 -2.01630853e-02  1.65908951e-02\n",
      "  1.35226548e-01  5.40710315e-02 -2.46989559e-02  3.99407817e-33\n",
      "  3.73962000e-02  5.92495315e-02 -5.04079573e-02 -1.20240990e-02\n",
      "  1.71749555e-02  4.67354245e-02 -5.72136231e-03  5.74614480e-02\n",
      "  1.32692009e-01  1.85478963e-02 -1.12320983e-03  1.74410362e-02\n",
      "  8.14195052e-02  1.80525221e-02  9.91329998e-02 -3.29648443e-02\n",
      "  1.44935325e-01 -1.93865448e-02  8.84932000e-03 -6.12304769e-02\n",
      " -1.18282683e-01  8.44679624e-02 -3.83698605e-02 -6.42268136e-02\n",
      "  5.94695881e-02  2.34423485e-02  1.13237679e-01  1.02510184e-01\n",
      " -3.05710416e-02  4.53606248e-02  3.41051654e-03 -1.86818652e-02\n",
      " -3.76777053e-02  7.53718941e-03  4.91688102e-02  6.79327622e-02\n",
      "  8.55732411e-02  5.05864322e-02 -4.96644378e-02  1.60085764e-02\n",
      "  5.51461801e-02 -7.30842426e-02 -3.09007950e-02  5.56474589e-02\n",
      " -4.27709930e-02  2.84594633e-02  9.11307149e-03  3.19755562e-02\n",
      "  5.47176898e-02  7.45451301e-02 -5.22834994e-03 -3.02878837e-03\n",
      " -3.59546654e-02  1.50989126e-02  7.30648031e-03  1.02668963e-02\n",
      "  1.34206805e-02  3.58376801e-02 -4.55643311e-02 -4.21428680e-02\n",
      " -9.30627808e-03  4.32270318e-02 -1.97483413e-02 -1.07633797e-02\n",
      "  9.10377353e-02 -5.56120416e-03 -5.66759259e-02 -3.28414664e-02\n",
      "  3.45768733e-03 -3.93134803e-02  4.13122624e-02  4.86887712e-03\n",
      "  6.77029938e-02  2.88707223e-02  7.14959353e-02 -9.61162373e-02\n",
      "  7.70445317e-02  1.80398654e-02 -8.28880742e-02  9.05377045e-03\n",
      "  1.07024997e-01  4.96720858e-02 -3.51826362e-02 -7.82300998e-03\n",
      "  9.27262455e-02 -5.70058934e-02  7.65805244e-02  3.32575291e-02\n",
      " -5.12677319e-02 -1.03233792e-02  1.53412381e-02 -3.08024324e-02\n",
      "  4.58124988e-02 -1.14059426e-01  1.37213273e-02 -1.70934751e-08\n",
      "  1.51102422e-02  1.46148890e-01  5.87159656e-02  9.52952541e-03\n",
      "  1.23913772e-02  6.60168380e-02 -1.71668101e-02  3.32866535e-02\n",
      " -5.36799943e-03 -3.89935933e-02 -1.55132618e-02 -1.62257683e-02\n",
      "  5.61042922e-03  1.61750782e-02  5.74486479e-02  5.53700291e-02\n",
      "  1.65982340e-02 -3.61347981e-02 -3.37912589e-02 -9.20233130e-02\n",
      " -1.16699217e-02 -1.25507507e-02  4.18809801e-02  1.87998340e-02\n",
      "  5.56009002e-02  4.38136123e-02 -2.24567000e-02  6.86634257e-02\n",
      "  1.10610537e-02  4.75074202e-02 -1.37327742e-02  7.54348338e-02\n",
      " -7.84206092e-02 -6.79527745e-02 -1.05898194e-01 -6.70095384e-02\n",
      " -1.47064505e-02 -2.35909298e-02  6.46598116e-02 -1.21850573e-01\n",
      " -4.72302781e-03 -2.44296249e-03  5.37627824e-02  4.55599651e-02\n",
      "  9.25859250e-03 -1.62787940e-02  3.88032012e-02  1.72221214e-02\n",
      " -5.90877235e-02  1.70383472e-02 -6.04998544e-02 -7.86844343e-02\n",
      " -7.48062879e-02  4.04469036e-02  5.26150689e-02  2.53879000e-02\n",
      " -2.65068468e-02 -8.43930873e-04 -5.88591881e-02  4.04340960e-02\n",
      "  3.14736590e-02 -6.54824600e-02 -6.55788258e-02 -1.00600287e-01]\n"
     ]
    }
   ],
   "source": [
    "print(train_embed[0])"
   ]
  },
  {
   "cell_type": "code",
   "execution_count": null,
   "id": "d89e0248",
   "metadata": {},
   "outputs": [],
   "source": []
  },
  {
   "cell_type": "code",
   "execution_count": null,
   "id": "bbcc6086",
   "metadata": {},
   "outputs": [],
   "source": []
  },
  {
   "cell_type": "code",
   "execution_count": null,
   "id": "03402597",
   "metadata": {},
   "outputs": [],
   "source": []
  },
  {
   "cell_type": "markdown",
   "id": "864cb35a",
   "metadata": {},
   "source": [
    "##### Logistic Regression model"
   ]
  },
  {
   "cell_type": "code",
   "execution_count": 38,
   "id": "0ccb0187",
   "metadata": {},
   "outputs": [
    {
     "name": "stderr",
     "output_type": "stream",
     "text": [
      "/Users/phanisingaraju/opt/anaconda3/envs/emotionanalysis_env/lib/python3.10/site-packages/sklearn/linear_model/_logistic.py:458: ConvergenceWarning: lbfgs failed to converge (status=1):\n",
      "STOP: TOTAL NO. of ITERATIONS REACHED LIMIT.\n",
      "\n",
      "Increase the number of iterations (max_iter) or scale the data as shown in:\n",
      "    https://scikit-learn.org/stable/modules/preprocessing.html\n",
      "Please also refer to the documentation for alternative solver options:\n",
      "    https://scikit-learn.org/stable/modules/linear_model.html#logistic-regression\n",
      "  n_iter_i = _check_optimize_result(\n"
     ]
    },
    {
     "data": {
      "text/html": [
       "<style>#sk-container-id-1 {color: black;background-color: white;}#sk-container-id-1 pre{padding: 0;}#sk-container-id-1 div.sk-toggleable {background-color: white;}#sk-container-id-1 label.sk-toggleable__label {cursor: pointer;display: block;width: 100%;margin-bottom: 0;padding: 0.3em;box-sizing: border-box;text-align: center;}#sk-container-id-1 label.sk-toggleable__label-arrow:before {content: \"▸\";float: left;margin-right: 0.25em;color: #696969;}#sk-container-id-1 label.sk-toggleable__label-arrow:hover:before {color: black;}#sk-container-id-1 div.sk-estimator:hover label.sk-toggleable__label-arrow:before {color: black;}#sk-container-id-1 div.sk-toggleable__content {max-height: 0;max-width: 0;overflow: hidden;text-align: left;background-color: #f0f8ff;}#sk-container-id-1 div.sk-toggleable__content pre {margin: 0.2em;color: black;border-radius: 0.25em;background-color: #f0f8ff;}#sk-container-id-1 input.sk-toggleable__control:checked~div.sk-toggleable__content {max-height: 200px;max-width: 100%;overflow: auto;}#sk-container-id-1 input.sk-toggleable__control:checked~label.sk-toggleable__label-arrow:before {content: \"▾\";}#sk-container-id-1 div.sk-estimator input.sk-toggleable__control:checked~label.sk-toggleable__label {background-color: #d4ebff;}#sk-container-id-1 div.sk-label input.sk-toggleable__control:checked~label.sk-toggleable__label {background-color: #d4ebff;}#sk-container-id-1 input.sk-hidden--visually {border: 0;clip: rect(1px 1px 1px 1px);clip: rect(1px, 1px, 1px, 1px);height: 1px;margin: -1px;overflow: hidden;padding: 0;position: absolute;width: 1px;}#sk-container-id-1 div.sk-estimator {font-family: monospace;background-color: #f0f8ff;border: 1px dotted black;border-radius: 0.25em;box-sizing: border-box;margin-bottom: 0.5em;}#sk-container-id-1 div.sk-estimator:hover {background-color: #d4ebff;}#sk-container-id-1 div.sk-parallel-item::after {content: \"\";width: 100%;border-bottom: 1px solid gray;flex-grow: 1;}#sk-container-id-1 div.sk-label:hover label.sk-toggleable__label {background-color: #d4ebff;}#sk-container-id-1 div.sk-serial::before {content: \"\";position: absolute;border-left: 1px solid gray;box-sizing: border-box;top: 0;bottom: 0;left: 50%;z-index: 0;}#sk-container-id-1 div.sk-serial {display: flex;flex-direction: column;align-items: center;background-color: white;padding-right: 0.2em;padding-left: 0.2em;position: relative;}#sk-container-id-1 div.sk-item {position: relative;z-index: 1;}#sk-container-id-1 div.sk-parallel {display: flex;align-items: stretch;justify-content: center;background-color: white;position: relative;}#sk-container-id-1 div.sk-item::before, #sk-container-id-1 div.sk-parallel-item::before {content: \"\";position: absolute;border-left: 1px solid gray;box-sizing: border-box;top: 0;bottom: 0;left: 50%;z-index: -1;}#sk-container-id-1 div.sk-parallel-item {display: flex;flex-direction: column;z-index: 1;position: relative;background-color: white;}#sk-container-id-1 div.sk-parallel-item:first-child::after {align-self: flex-end;width: 50%;}#sk-container-id-1 div.sk-parallel-item:last-child::after {align-self: flex-start;width: 50%;}#sk-container-id-1 div.sk-parallel-item:only-child::after {width: 0;}#sk-container-id-1 div.sk-dashed-wrapped {border: 1px dashed gray;margin: 0 0.4em 0.5em 0.4em;box-sizing: border-box;padding-bottom: 0.4em;background-color: white;}#sk-container-id-1 div.sk-label label {font-family: monospace;font-weight: bold;display: inline-block;line-height: 1.2em;}#sk-container-id-1 div.sk-label-container {text-align: center;}#sk-container-id-1 div.sk-container {/* jupyter's `normalize.less` sets `[hidden] { display: none; }` but bootstrap.min.css set `[hidden] { display: none !important; }` so we also need the `!important` here to be able to override the default hidden behavior on the sphinx rendered scikit-learn.org. See: https://github.com/scikit-learn/scikit-learn/issues/21755 */display: inline-block !important;position: relative;}#sk-container-id-1 div.sk-text-repr-fallback {display: none;}</style><div id=\"sk-container-id-1\" class=\"sk-top-container\"><div class=\"sk-text-repr-fallback\"><pre>LogisticRegression(multi_class=&#x27;multinomial&#x27;)</pre><b>In a Jupyter environment, please rerun this cell to show the HTML representation or trust the notebook. <br />On GitHub, the HTML representation is unable to render, please try loading this page with nbviewer.org.</b></div><div class=\"sk-container\" hidden><div class=\"sk-item\"><div class=\"sk-estimator sk-toggleable\"><input class=\"sk-toggleable__control sk-hidden--visually\" id=\"sk-estimator-id-1\" type=\"checkbox\" checked><label for=\"sk-estimator-id-1\" class=\"sk-toggleable__label sk-toggleable__label-arrow\">LogisticRegression</label><div class=\"sk-toggleable__content\"><pre>LogisticRegression(multi_class=&#x27;multinomial&#x27;)</pre></div></div></div></div></div>"
      ],
      "text/plain": [
       "LogisticRegression(multi_class='multinomial')"
      ]
     },
     "execution_count": 38,
     "metadata": {},
     "output_type": "execute_result"
    }
   ],
   "source": [
    "#Logistic Regression with multinomial\n",
    "lr_mn = LogisticRegression(multi_class='multinomial', solver='lbfgs')\n",
    "lr_mn.fit(train_embed, ytrain)"
   ]
  },
  {
   "cell_type": "code",
   "execution_count": 39,
   "id": "097ddcba",
   "metadata": {},
   "outputs": [],
   "source": [
    "ypred_lr_mn=lr_mn.predict(test_embed)"
   ]
  },
  {
   "cell_type": "code",
   "execution_count": 40,
   "id": "b58bcaf9",
   "metadata": {},
   "outputs": [
    {
     "name": "stdout",
     "output_type": "stream",
     "text": [
      "69.7243947858473 69.04964539007092\n"
     ]
    }
   ],
   "source": [
    "tr_acc_lr_mn = lr_mn.score(train_embed, ytrain)*100\n",
    "test_acc_lr_mn =  accuracy_score(ytest,ypred_lr_mn) * 100\n",
    "print(tr_acc_lr_mn,test_acc_lr_mn)"
   ]
  },
  {
   "cell_type": "code",
   "execution_count": 41,
   "id": "172eb812",
   "metadata": {},
   "outputs": [
    {
     "data": {
      "image/png": "[encoded data removed]",
      "text/plain": [
       "<Figure size 1000x800 with 2 Axes>"
      ]
     },
     "metadata": {},
     "output_type": "display_data"
    }
   ],
   "source": [
    "cm = confusion_matrix(ytest, ypred_lr_mn)\n",
    "plt.figure(figsize=(10,8))\n",
    "sns.heatmap(cm, annot=True,fmt='g')\n",
    "plt.title('Confusion Matrix')\n",
    "plt.ylabel('Actual Values')\n",
    "plt.xlabel('Predicted Values')\n",
    "plt.show()"
   ]
  },
  {
   "cell_type": "code",
   "execution_count": 42,
   "id": "7129773d",
   "metadata": {},
   "outputs": [],
   "source": [
    "pickle.dump(lr_mn, open('../models/lr_mn_sentiment_bert.pkl', 'wb'))"
   ]
  },
  {
   "cell_type": "markdown",
   "id": "8a8f2df9",
   "metadata": {},
   "source": [
    "##### SVM Classifier"
   ]
  },
  {
   "cell_type": "code",
   "execution_count": 43,
   "id": "84b170c3",
   "metadata": {},
   "outputs": [
    {
     "name": "stdout",
     "output_type": "stream",
     "text": [
      "CPU times: user 2min 45s, sys: 1.46 s, total: 2min 47s\n",
      "Wall time: 2min 47s\n"
     ]
    },
    {
     "data": {
      "text/html": [
       "<style>#sk-container-id-2 {color: black;background-color: white;}#sk-container-id-2 pre{padding: 0;}#sk-container-id-2 div.sk-toggleable {background-color: white;}#sk-container-id-2 label.sk-toggleable__label {cursor: pointer;display: block;width: 100%;margin-bottom: 0;padding: 0.3em;box-sizing: border-box;text-align: center;}#sk-container-id-2 label.sk-toggleable__label-arrow:before {content: \"▸\";float: left;margin-right: 0.25em;color: #696969;}#sk-container-id-2 label.sk-toggleable__label-arrow:hover:before {color: black;}#sk-container-id-2 div.sk-estimator:hover label.sk-toggleable__label-arrow:before {color: black;}#sk-container-id-2 div.sk-toggleable__content {max-height: 0;max-width: 0;overflow: hidden;text-align: left;background-color: #f0f8ff;}#sk-container-id-2 div.sk-toggleable__content pre {margin: 0.2em;color: black;border-radius: 0.25em;background-color: #f0f8ff;}#sk-container-id-2 input.sk-toggleable__control:checked~div.sk-toggleable__content {max-height: 200px;max-width: 100%;overflow: auto;}#sk-container-id-2 input.sk-toggleable__control:checked~label.sk-toggleable__label-arrow:before {content: \"▾\";}#sk-container-id-2 div.sk-estimator input.sk-toggleable__control:checked~label.sk-toggleable__label {background-color: #d4ebff;}#sk-container-id-2 div.sk-label input.sk-toggleable__control:checked~label.sk-toggleable__label {background-color: #d4ebff;}#sk-container-id-2 input.sk-hidden--visually {border: 0;clip: rect(1px 1px 1px 1px);clip: rect(1px, 1px, 1px, 1px);height: 1px;margin: -1px;overflow: hidden;padding: 0;position: absolute;width: 1px;}#sk-container-id-2 div.sk-estimator {font-family: monospace;background-color: #f0f8ff;border: 1px dotted black;border-radius: 0.25em;box-sizing: border-box;margin-bottom: 0.5em;}#sk-container-id-2 div.sk-estimator:hover {background-color: #d4ebff;}#sk-container-id-2 div.sk-parallel-item::after {content: \"\";width: 100%;border-bottom: 1px solid gray;flex-grow: 1;}#sk-container-id-2 div.sk-label:hover label.sk-toggleable__label {background-color: #d4ebff;}#sk-container-id-2 div.sk-serial::before {content: \"\";position: absolute;border-left: 1px solid gray;box-sizing: border-box;top: 0;bottom: 0;left: 50%;z-index: 0;}#sk-container-id-2 div.sk-serial {display: flex;flex-direction: column;align-items: center;background-color: white;padding-right: 0.2em;padding-left: 0.2em;position: relative;}#sk-container-id-2 div.sk-item {position: relative;z-index: 1;}#sk-container-id-2 div.sk-parallel {display: flex;align-items: stretch;justify-content: center;background-color: white;position: relative;}#sk-container-id-2 div.sk-item::before, #sk-container-id-2 div.sk-parallel-item::before {content: \"\";position: absolute;border-left: 1px solid gray;box-sizing: border-box;top: 0;bottom: 0;left: 50%;z-index: -1;}#sk-container-id-2 div.sk-parallel-item {display: flex;flex-direction: column;z-index: 1;position: relative;background-color: white;}#sk-container-id-2 div.sk-parallel-item:first-child::after {align-self: flex-end;width: 50%;}#sk-container-id-2 div.sk-parallel-item:last-child::after {align-self: flex-start;width: 50%;}#sk-container-id-2 div.sk-parallel-item:only-child::after {width: 0;}#sk-container-id-2 div.sk-dashed-wrapped {border: 1px dashed gray;margin: 0 0.4em 0.5em 0.4em;box-sizing: border-box;padding-bottom: 0.4em;background-color: white;}#sk-container-id-2 div.sk-label label {font-family: monospace;font-weight: bold;display: inline-block;line-height: 1.2em;}#sk-container-id-2 div.sk-label-container {text-align: center;}#sk-container-id-2 div.sk-container {/* jupyter's `normalize.less` sets `[hidden] { display: none; }` but bootstrap.min.css set `[hidden] { display: none !important; }` so we also need the `!important` here to be able to override the default hidden behavior on the sphinx rendered scikit-learn.org. See: https://github.com/scikit-learn/scikit-learn/issues/21755 */display: inline-block !important;position: relative;}#sk-container-id-2 div.sk-text-repr-fallback {display: none;}</style><div id=\"sk-container-id-2\" class=\"sk-top-container\"><div class=\"sk-text-repr-fallback\"><pre>SVC(C=1, decision_function_shape=&#x27;ovo&#x27;, kernel=&#x27;linear&#x27;)</pre><b>In a Jupyter environment, please rerun this cell to show the HTML representation or trust the notebook. <br />On GitHub, the HTML representation is unable to render, please try loading this page with nbviewer.org.</b></div><div class=\"sk-container\" hidden><div class=\"sk-item\"><div class=\"sk-estimator sk-toggleable\"><input class=\"sk-toggleable__control sk-hidden--visually\" id=\"sk-estimator-id-2\" type=\"checkbox\" checked><label for=\"sk-estimator-id-2\" class=\"sk-toggleable__label sk-toggleable__label-arrow\">SVC</label><div class=\"sk-toggleable__content\"><pre>SVC(C=1, decision_function_shape=&#x27;ovo&#x27;, kernel=&#x27;linear&#x27;)</pre></div></div></div></div></div>"
      ],
      "text/plain": [
       "SVC(C=1, decision_function_shape='ovo', kernel='linear')"
      ]
     },
     "execution_count": 43,
     "metadata": {},
     "output_type": "execute_result"
    }
   ],
   "source": [
    "%%time\n",
    "svm = SVC( kernel ='linear',C = 1, decision_function_shape='ovo')\n",
    "svm.fit(train_embed, ytrain)"
   ]
  },
  {
   "cell_type": "code",
   "execution_count": 44,
   "id": "49aa7233",
   "metadata": {},
   "outputs": [],
   "source": [
    "ypred_svm=svm.predict(test_embed)"
   ]
  },
  {
   "cell_type": "code",
   "execution_count": 45,
   "id": "7fcfafb8",
   "metadata": {},
   "outputs": [
    {
     "name": "stdout",
     "output_type": "stream",
     "text": [
      "69.81750465549348 68.9645390070922\n"
     ]
    }
   ],
   "source": [
    "tr_acc_svm= svm.score(train_embed, ytrain)*100\n",
    "test_acc_svm =  accuracy_score(ytest,ypred_svm) * 100\n",
    "print(tr_acc_svm,test_acc_svm)"
   ]
  },
  {
   "cell_type": "code",
   "execution_count": 46,
   "id": "5b1efd45",
   "metadata": {},
   "outputs": [],
   "source": [
    "pickle.dump(svm, open('../models/svm_sentiment_bert.pkl', 'wb'))"
   ]
  },
  {
   "cell_type": "code",
   "execution_count": null,
   "id": "10d41311",
   "metadata": {},
   "outputs": [],
   "source": []
  }
 ],
 "metadata": {
  "kernelspec": {
   "display_name": "Python [conda env:emotionanalysis_env]",
   "language": "python",
   "name": "conda-env-emotionanalysis_env-py"
  },
  "language_info": {
   "codemirror_mode": {
    "name": "ipython",
    "version": 3
   },
   "file_extension": ".py",
   "mimetype": "text/x-python",
   "name": "python",
   "nbconvert_exporter": "python",
   "pygments_lexer": "ipython3",
   "version": "3.10.4"
  }
 },
 "nbformat": 4,
 "nbformat_minor": 5
}
